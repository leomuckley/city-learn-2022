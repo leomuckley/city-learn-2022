{
 "cells": [
  {
   "cell_type": "markdown",
   "metadata": {},
   "source": [
    "# BABY STEPS - Getting Started\n",
    "\n",
    "```\n",
    "Author: Chia E Tungom\n",
    "Email: bamtungom@protonmail.com\n",
    "```\n",
    "\n",
    "This Notebook demonstrates the basic facets of the CityLearn Environment. You can play with it to get familiar with the environment.\n",
    "Important aspects of the environment that covered include include:\n",
    "\n",
    "1. Observation Space (dataset)\n",
    "\n",
    "2. Action Space (discrete or continous)\n",
    "\n",
    "3. Model (Policy)\n",
    "\n",
    "4. Action (steps)\n",
    "\n",
    "5. Evaluation (reward)\n",
    "\n",
    "We use general purpose functions common to most RL environments for illustration.\n",
    "\n",
    "__Note:__ To run this notebook, place it in the root directory of your CityLearn Phase one repository (same directory as requirements.txt)\n",
    "\n",
    "__Lets Goooooo!!!__"
   ]
  },
  {
   "cell_type": "code",
   "execution_count": 2,
   "metadata": {},
   "outputs": [
    {
     "name": "stderr",
     "output_type": "stream",
     "text": [
      "/home/leo/miniconda3/envs/myenv/lib/python3.7/site-packages/ipykernel/ipkernel.py:287: DeprecationWarning: `should_run_async` will not call `transform_cell` automatically in the future. Please pass the result to `transformed_cell` argument and any exception that happen during thetransform in `preprocessing_exc_tuple` in IPython 7.17 and above.\n",
      "  and should_run_async(code)\n"
     ]
    }
   ],
   "source": [
    "import numpy as np\n",
    "import time\n",
    "\n",
    "\"\"\"\n",
    "Please do not make changes to this file. \n",
    "This is only a reference script provided to allow you \n",
    "to do local evaluation. The evaluator **DOES NOT** \n",
    "use this script for orchestrating the evaluations. \n",
    "\"\"\"\n",
    "\n",
    "# to avoid crashes but might cause results to be different \n",
    "# https://github.com/dmlc/xgboost/issues/1715\n",
    "\n",
    "# import os\n",
    "# os.environ['KMP_DUPLICATE_LIB_OK']='True'\n",
    "\n",
    "\n",
    "from agents.orderenforcingwrapper import OrderEnforcingAgent\n",
    "from citylearn.citylearn import CityLearnEnv"
   ]
  },
  {
   "cell_type": "code",
   "execution_count": 4,
   "metadata": {},
   "outputs": [],
   "source": [
    "# Custom configure enviroment \n",
    "class Constants:\n",
    "    episodes = 3\n",
    "    schema_path = './data/citylearn_challenge_2022_phase_1/schema.json'\n",
    "\n",
    "def action_space_to_dict(aspace):\n",
    "    \"\"\" Only for box space \"\"\"\n",
    "    return { \"high\": aspace.high,\n",
    "             \"low\": aspace.low,\n",
    "             \"shape\": aspace.shape,\n",
    "             \"dtype\": str(aspace.dtype)\n",
    "    }\n",
    "\n",
    "def env_reset(env):\n",
    "    observations = env.reset()\n",
    "    action_space = env.action_space\n",
    "    observation_space = env.observation_space\n",
    "    building_info = env.get_building_information()\n",
    "    building_info = list(building_info.values())\n",
    "    action_space_dicts = [action_space_to_dict(asp) for asp in action_space]\n",
    "    observation_space_dicts = [action_space_to_dict(osp) for osp in observation_space]\n",
    "    obs_dict = {\"action_space\": action_space_dicts,\n",
    "                \"observation_space\": observation_space_dicts,\n",
    "                \"building_info\": building_info,\n",
    "                \"observation\": observations }\n",
    "    return obs_dict\n"
   ]
  },
  {
   "cell_type": "code",
   "execution_count": null,
   "metadata": {},
   "outputs": [],
   "source": []
  },
  {
   "cell_type": "markdown",
   "metadata": {},
   "source": [
    "# 1. Define Environment\n",
    "\n",
    "The first thing we need to do is create a CityLearn environment. The environment is defined using a json schema and dataset which can be found in the data directory."
   ]
  },
  {
   "cell_type": "code",
   "execution_count": 10,
   "metadata": {},
   "outputs": [
    {
     "ename": "AssertionError",
     "evalue": "The observation space must inherit from gym.spaces cf https://github.com/openai/gym/blob/master/gym/spaces/",
     "output_type": "error",
     "traceback": [
      "\u001b[0;31m---------------------------------------------------------------------------\u001b[0m",
      "\u001b[0;31mAssertionError\u001b[0m                            Traceback (most recent call last)",
      "\u001b[0;32m<ipython-input-10-98818491a838>\u001b[0m in \u001b[0;36m<module>\u001b[0;34m\u001b[0m\n\u001b[1;32m     14\u001b[0m \u001b[0;31m#env = CustomEnv(arg1, ...)\u001b[0m\u001b[0;34m\u001b[0m\u001b[0;34m\u001b[0m\u001b[0;34m\u001b[0m\u001b[0m\n\u001b[1;32m     15\u001b[0m \u001b[0;31m# It will check your custom environment and output additional warnings if needed\u001b[0m\u001b[0;34m\u001b[0m\u001b[0;34m\u001b[0m\u001b[0;34m\u001b[0m\u001b[0m\n\u001b[0;32m---> 16\u001b[0;31m \u001b[0mcheck_env\u001b[0m\u001b[0;34m(\u001b[0m\u001b[0menv\u001b[0m\u001b[0;34m)\u001b[0m\u001b[0;34m\u001b[0m\u001b[0;34m\u001b[0m\u001b[0m\n\u001b[0m",
      "\u001b[0;32m~/miniconda3/envs/myenv/lib/python3.7/site-packages/stable_baselines3/common/env_checker.py\u001b[0m in \u001b[0;36mcheck_env\u001b[0;34m(env, warn, skip_render_check)\u001b[0m\n\u001b[1;32m    248\u001b[0m \u001b[0;34m\u001b[0m\u001b[0m\n\u001b[1;32m    249\u001b[0m     \u001b[0;31m# ============= Check the spaces (observation and action) ================\u001b[0m\u001b[0;34m\u001b[0m\u001b[0;34m\u001b[0m\u001b[0;34m\u001b[0m\u001b[0m\n\u001b[0;32m--> 250\u001b[0;31m     \u001b[0m_check_spaces\u001b[0m\u001b[0;34m(\u001b[0m\u001b[0menv\u001b[0m\u001b[0;34m)\u001b[0m\u001b[0;34m\u001b[0m\u001b[0;34m\u001b[0m\u001b[0m\n\u001b[0m\u001b[1;32m    251\u001b[0m \u001b[0;34m\u001b[0m\u001b[0m\n\u001b[1;32m    252\u001b[0m     \u001b[0;31m# Define aliases for convenience\u001b[0m\u001b[0;34m\u001b[0m\u001b[0;34m\u001b[0m\u001b[0;34m\u001b[0m\u001b[0m\n",
      "\u001b[0;32m~/miniconda3/envs/myenv/lib/python3.7/site-packages/stable_baselines3/common/env_checker.py\u001b[0m in \u001b[0;36m_check_spaces\u001b[0;34m(env)\u001b[0m\n\u001b[1;32m    193\u001b[0m     \u001b[0;32massert\u001b[0m \u001b[0mhasattr\u001b[0m\u001b[0;34m(\u001b[0m\u001b[0menv\u001b[0m\u001b[0;34m,\u001b[0m \u001b[0;34m\"action_space\"\u001b[0m\u001b[0;34m)\u001b[0m\u001b[0;34m,\u001b[0m \u001b[0;34m\"You must specify an action space (cf gym.spaces)\"\u001b[0m \u001b[0;34m+\u001b[0m \u001b[0mgym_spaces\u001b[0m\u001b[0;34m\u001b[0m\u001b[0;34m\u001b[0m\u001b[0m\n\u001b[1;32m    194\u001b[0m \u001b[0;34m\u001b[0m\u001b[0m\n\u001b[0;32m--> 195\u001b[0;31m     \u001b[0;32massert\u001b[0m \u001b[0misinstance\u001b[0m\u001b[0;34m(\u001b[0m\u001b[0menv\u001b[0m\u001b[0;34m.\u001b[0m\u001b[0mobservation_space\u001b[0m\u001b[0;34m,\u001b[0m \u001b[0mspaces\u001b[0m\u001b[0;34m.\u001b[0m\u001b[0mSpace\u001b[0m\u001b[0;34m)\u001b[0m\u001b[0;34m,\u001b[0m \u001b[0;34m\"The observation space must inherit from gym.spaces\"\u001b[0m \u001b[0;34m+\u001b[0m \u001b[0mgym_spaces\u001b[0m\u001b[0;34m\u001b[0m\u001b[0;34m\u001b[0m\u001b[0m\n\u001b[0m\u001b[1;32m    196\u001b[0m     \u001b[0;32massert\u001b[0m \u001b[0misinstance\u001b[0m\u001b[0;34m(\u001b[0m\u001b[0menv\u001b[0m\u001b[0;34m.\u001b[0m\u001b[0maction_space\u001b[0m\u001b[0;34m,\u001b[0m \u001b[0mspaces\u001b[0m\u001b[0;34m.\u001b[0m\u001b[0mSpace\u001b[0m\u001b[0;34m)\u001b[0m\u001b[0;34m,\u001b[0m \u001b[0;34m\"The action space must inherit from gym.spaces\"\u001b[0m \u001b[0;34m+\u001b[0m \u001b[0mgym_spaces\u001b[0m\u001b[0;34m\u001b[0m\u001b[0;34m\u001b[0m\u001b[0m\n\u001b[1;32m    197\u001b[0m \u001b[0;34m\u001b[0m\u001b[0m\n",
      "\u001b[0;31mAssertionError\u001b[0m: The observation space must inherit from gym.spaces cf https://github.com/openai/gym/blob/master/gym/spaces/"
     ]
    }
   ],
   "source": [
    "# Understand CityLearn Environment\n",
    "\n",
    "env = CityLearnEnv(schema=Constants.schema_path)\n",
    "\n",
    "#building_info = env.get_building_information()\n",
    "\n",
    "#building_info = list(building_info.values())\n",
    "\n",
    "#building_info\n",
    "\n",
    "\n",
    "from stable_baselines3.common.env_checker import check_env\n",
    "\n",
    "#env = CustomEnv(arg1, ...)\n",
    "# It will check your custom environment and output additional warnings if needed\n",
    "check_env(env)"
   ]
  },
  {
   "cell_type": "code",
   "execution_count": 7,
   "metadata": {},
   "outputs": [],
   "source": [
    "from pettingzoo.butterfly import pistonball_v6\n",
    "pz_env = pistonball_v6.env()\n"
   ]
  },
  {
   "cell_type": "code",
   "execution_count": 12,
   "metadata": {},
   "outputs": [
    {
     "name": "stderr",
     "output_type": "stream",
     "text": [
      "/home/leo/miniconda3/envs/myenv/lib/python3.7/site-packages/ipykernel/ipkernel.py:287: DeprecationWarning: `should_run_async` will not call `transform_cell` automatically in the future. Please pass the result to `transformed_cell` argument and any exception that happen during thetransform in `preprocessing_exc_tuple` in IPython 7.17 and above.\n",
      "  and should_run_async(code)\n"
     ]
    }
   ],
   "source": []
  },
  {
   "cell_type": "markdown",
   "metadata": {},
   "source": [
    "# 2. OBSERVATION SPACE\n",
    "\n",
    "The observation space is the data of the environment. This is what the agent sees inorder to decide which action to take.\n",
    "\n",
    "Based on our environment the observation space is 5 dimensional corresponding to the number of buildings. Each building has it's own observation which is a 28 dimension 1D array. The 1D array stands for an observation at one point in time. Therefore our environment is a `5x28` array\n",
    "\n",
    "1. Use `env.observation_space` to explore the entire environment\n",
    "2. Use `env.observation_space[index]` to esplore the envrionment of a particular building (index 0 for building 1)"
   ]
  },
  {
   "cell_type": "code",
   "execution_count": 5,
   "metadata": {},
   "outputs": [
    {
     "name": "stdout",
     "output_type": "stream",
     "text": [
      " SAMPLE OBSERVATION SPACE for Builiding ONE >>> (28, array([ 1.0493914e+01,  5.1286759e+00,  1.3409396e+01,  1.2421701e+01,\n",
      "        1.5840919e+01,  1.6219891e+01,  2.7735819e+01,  8.6927414e+01,\n",
      "        2.2710928e+01,  1.1871904e+01,  9.1088486e+01,  6.8541827e+02,\n",
      "        9.3615015e+02,  6.7195398e+02,  8.5761993e+01,  3.2859189e+02,\n",
      "        6.2101514e+02,  6.6601093e+02,  7.5235040e+02, -3.2112610e-01,\n",
      "        5.6737485e+00,  2.9651343e+02, -6.7227441e-01, -3.4297062e+01,\n",
      "       -5.5904216e-01,  1.0823213e+00,  1.4300894e+00,  1.2796100e+00],\n",
      "      dtype=float32))\n",
      " SAMPLE OBSERVATION SPACE for Builiding ONE >>> (28, array([ 7.5290976e+00,  2.6907270e+00,  1.8199781e+01,  3.1960203e+01,\n",
      "        3.0821106e+01,  3.2926907e+01,  2.0237917e+01,  6.8262314e+01,\n",
      "        3.7572220e+01,  9.5142365e+01,  3.4197010e+01,  9.8121075e+02,\n",
      "        7.5089923e+02,  6.9489380e+02,  9.5209680e+02,  1.8757285e+02,\n",
      "        7.1447668e+02,  9.2520972e+02,  7.1603326e+02,  1.6224939e-02,\n",
      "        4.3924565e+00,  6.5581158e+02,  1.8194780e+00, -3.2670297e+02,\n",
      "        1.4582403e+00, -6.1297935e-01, -2.5651222e-01,  7.0304316e-01],\n",
      "      dtype=float32))\n",
      " SAMPLE OBSERVATION SPACE for Builiding ONE >>> (28, array([ 6.5227575e+00,  7.9569731e+00,  1.8426870e+00,  2.5031988e+01,\n",
      "        1.4604939e+01,  7.3425341e+00,  3.2984985e+01,  5.6863407e+01,\n",
      "        7.9159599e+01,  6.3620186e+01,  2.5983084e+01,  9.0788062e+02,\n",
      "        4.3940332e+02,  8.1880652e+02,  8.9546112e+02,  1.9149576e+00,\n",
      "        3.5896771e+02,  2.7051639e+02,  5.4629852e+02, -9.1117638e-01,\n",
      "        3.9270248e+00,  1.1552826e+02,  1.5065086e+00,  3.3569684e+02,\n",
      "        1.9276613e-01, -1.3722691e-01,  1.5005819e+00,  1.1000442e-01],\n",
      "      dtype=float32))\n",
      " SAMPLE OBSERVATION SPACE for Builiding ONE >>> (28, array([ 4.3544626e+00,  6.8755150e+00,  2.7719676e+00,  2.1791475e+01,\n",
      "        1.0789559e+01,  5.4977665e+00,  1.5564448e+01,  3.8033466e+01,\n",
      "        1.8052156e+01,  4.3667992e+01,  8.3504776e+01,  1.5341592e+02,\n",
      "        5.2397699e+02,  8.1322650e+02,  8.3830756e+02,  1.7752354e+01,\n",
      "        2.4774026e+02,  6.8539679e+02,  1.8115022e+02, -4.2776462e-02,\n",
      "        3.5252283e+00,  6.8975903e+02,  1.4586558e+00, -2.8060168e+02,\n",
      "        1.0174969e+00,  1.4030594e+00,  4.8599136e-01, -1.6889228e-01],\n",
      "      dtype=float32))\n",
      " SAMPLE OBSERVATION SPACE for Builiding ONE >>> (28, array([ 7.7305560e+00,  3.4904406e+00,  2.2344782e+01,  4.9193735e+00,\n",
      "        2.0465858e+01,  1.2182706e+01,  1.8245304e+01,  5.5915783e+01,\n",
      "        4.4108932e+01,  3.4874596e+01,  3.6456360e+01,  3.6370697e+02,\n",
      "        6.1215955e+02,  3.7795468e+02,  9.3582770e+02,  2.7753503e+02,\n",
      "        6.4978986e+02,  4.8126114e+02,  2.4339999e+02, -8.8344687e-01,\n",
      "        1.0269299e+00,  2.8629993e+02,  6.4664252e-02, -5.6865424e+02,\n",
      "       -1.1327532e-01,  5.4918313e-01, -4.0600252e-01, -1.1036280e-01],\n",
      "      dtype=float32))\n"
     ]
    }
   ],
   "source": [
    "# There is an action space for every building\n",
    "# print(f' OBSERVATION SPACES {env.observation_space}')\n",
    "# print(f' OBSERVATION SPACE for Builiding ONE is {env.observation_space[0]}')\n",
    "\n",
    "# sample some actions\n",
    "for building in range(5):\n",
    "    print(f' SAMPLE OBSERVATION SPACE for Builiding ONE >>> {len(env.observation_space[building].sample()), env.observation_space[building].sample()}')\n",
    "\n",
    "# we can see the observations are a 28 1D numpy array with every dimension defined by the range given in the spaces BOX "
   ]
  },
  {
   "cell_type": "markdown",
   "metadata": {},
   "source": [
    "# 3. ACTION SPACE\n",
    "\n",
    "This shows us the type of actions we can take along with the dimension and property (discrete of contineous) of each actions. In the citylearn challenge, the actions are continous and one dimensional in the range [-1,1] for each building. 1 means charging and -1 means discharging.\n",
    "\n",
    "- Based on our environment, the action space is a 5 dimensional array with each array corresponding to the action space of a building.\n",
    "- one array is of the form `[(-1,1), (1,), float32]` which correspond to `[(lower bound, upper bound), (dimension,), datatype]`\n",
    "- __lower bound__ is the lowest or smallest value of an action while __upper bound__ is the highest.\n",
    "- Dimension stands for  of our action which here is 1 (use `action_space.sample()` to see an action)\n",
    "- Datatype is the data type of our action which here is float\n",
    "\n",
    "The cell below illustrates the action space(s). Play with it for understanding the actions.\n",
    "\n",
    "`action_space.sample` produces a random actions\n",
    "\n",
    "Note: You must pick an action space of a given building inorder to sample (use index e.g `action_space[0]`)"
   ]
  },
  {
   "cell_type": "code",
   "execution_count": 6,
   "metadata": {},
   "outputs": [
    {
     "name": "stdout",
     "output_type": "stream",
     "text": [
      " ACTION SPACES [Box([-1.], [1.], (1,), float32), Box([-1.], [1.], (1,), float32), Box([-1.], [1.], (1,), float32), Box([-1.], [1.], (1,), float32), Box([-1.], [1.], (1,), float32)]\n",
      " ACTION SPACE for Builiding ONE is Box([-1.], [1.], (1,), float32)\n",
      " SAMPLE ACTION SPACE for Builiding ONE >>> [-0.37607798]\n",
      " SAMPLE ACTION SPACE for Builiding ONE >>> [-0.8405351]\n",
      " SAMPLE ACTION SPACE for Builiding ONE >>> [0.627676]\n",
      " SAMPLE ACTION SPACE for Builiding ONE >>> [-0.5415785]\n",
      " SAMPLE ACTION SPACE for Builiding ONE >>> [0.5929452]\n"
     ]
    }
   ],
   "source": [
    "# There is an action space for every building\n",
    "print(f' ACTION SPACES {env.action_space}')\n",
    "print(f' ACTION SPACE for Builiding ONE is {env.action_space[0]}')\n",
    "\n",
    "# sample some actions\n",
    "for action in range(5):\n",
    "    print(f' SAMPLE ACTION SPACE for Builiding ONE >>> {env.action_space[1].sample()}')\n",
    "\n",
    "# we can observe the actions are continous in the range [-1,1]"
   ]
  },
  {
   "cell_type": "markdown",
   "metadata": {},
   "source": [
    "# 4. Define A Model or Agent \n",
    "\n",
    "The agent is the Policy which decides what action to take given an observation. We can use Rule based actions(agents). The CityLearn setting is built for multiagent systems but a single agent can aslo be used.\n",
    "\n",
    "Here we just show how to load an agent "
   ]
  },
  {
   "cell_type": "code",
   "execution_count": 7,
   "metadata": {},
   "outputs": [],
   "source": [
    "from citylearn.agents.sac import SAC\n",
    "\n",
    "# SAC??"
   ]
  },
  {
   "cell_type": "markdown",
   "metadata": {},
   "source": [
    "# 5. TAKING AN ACTION\n",
    "\n",
    "As already explained with the action spaces, $n$ buildings will have $n$ actions with each action corresponding to one building. Therefore our actions should appear as follows\n",
    "\n",
    "- Action should be a List containing tuples(number of buildings). inside the tuple is a list conatining the action corresponding to the action to be taken for a given building\n",
    "- Example for a five buildings environment, we could have.\n",
    "\n",
    "``` python\n",
    "\n",
    "Actions = [ ([0.0]), ([0.0]), ([0.0]), ([0.0]), ([0.0]) ]\n",
    "\n",
    "```\n",
    "A list of list is also acceptable\n",
    "\n",
    "``` python\n",
    "\n",
    "Actions = [ [0.0], [0.0], [0.0], [0.0], [0.0] ]\n",
    "\n",
    "```\n",
    "\n",
    "We take an action when we want to move one step ahead. We can do this using `env.step(action)`\n",
    "\n",
    "When we take an action the output contains a tuple with the following:\n",
    "\n",
    "1. Next State\n",
    "2. Reward\n",
    "3. If the state is a Terminal State\n",
    "4. Information about the environment \n"
   ]
  },
  {
   "cell_type": "code",
   "execution_count": 8,
   "metadata": {},
   "outputs": [
    {
     "name": "stdout",
     "output_type": "stream",
     "text": [
      " WE are about to take [[-0.44278384329292075], [0.7614793085347855], [0.016267885295413675], [-0.5318257011139049], [-0.6363865259064139]] \n",
      "\n",
      " NEXT STATE \n",
      " [[8, 1, 1, 20.1, 19.4, 22.8, 19.4, 79.0, 79.0, 71.0, 87.0, 0.0, 201.0, 966.0, 0.0, 0.0, 444.0, 747.0, 0.0, 0.1573190581037597, 0.8511666666666671, 0.0, 0.0, 0.8511666666666671, 0.22, 0.22, 0.22, 0.22], [8, 1, 1, 20.1, 19.4, 22.8, 19.4, 79.0, 79.0, 71.0, 87.0, 0.0, 201.0, 966.0, 0.0, 0.0, 444.0, 747.0, 0.0, 0.1573190581037597, 1.3706666666666665, 0.0, 0.7325174387711384, 6.4368187095667455, 0.22, 0.22, 0.22, 0.22], [8, 1, 1, 20.1, 19.4, 22.8, 19.4, 79.0, 79.0, 71.0, 87.0, 0.0, 201.0, 966.0, 0.0, 0.0, 444.0, 747.0, 0.0, 0.1573190581037597, 1.0185241699218762e-07, 0.0, 0.015527467347059197, 0.10907920347571512, 0.22, 0.22, 0.22, 0.22], [8, 1, 1, 20.1, 19.4, 22.8, 19.4, 79.0, 79.0, 71.0, 87.0, 0.0, 201.0, 966.0, 0.0, 0.0, 444.0, 747.0, 0.0, 0.1573190581037597, 1.9281666666666664, 0.0, 0.0, 1.9281666666666664, 0.22, 0.22, 0.22, 0.22], [8, 1, 1, 20.1, 19.4, 22.8, 19.4, 79.0, 79.0, 71.0, 87.0, 0.0, 201.0, 966.0, 0.0, 0.0, 444.0, 747.0, 0.0, 0.1573190581037597, 0.5158833333333334, 0.0, 0.0, 0.5158833333333334, 0.22, 0.22, 0.22, 0.22]] \n",
      "\n",
      " REWARDS [-0.3211614  -2.42873437 -0.04115766 -0.72753403 -0.19465261] \n",
      "\n",
      " TERMINAL OR NOT >> False \n",
      "\n",
      " INFO {}\n"
     ]
    }
   ],
   "source": [
    "# print(env_reset(env)[\"action_space\"])\n",
    "# env_reset(env)[\"observation_space\"]\n",
    "# env.reset()[0]\n",
    "\n",
    "import random\n",
    "Actions = [([random.uniform(-1,1)]) for _ in range(5)]\n",
    "print(f' WE are about to take {Actions} \\n')\n",
    "next_state, reward, terminal, info = env.step(Actions)\n",
    "\n",
    "print(f' NEXT STATE \\n {next_state} \\n')\n",
    "print(f' REWARDS {reward} \\n')\n",
    "print(f' TERMINAL OR NOT >> {terminal} \\n')\n",
    "print(f' INFO {info}')\n",
    "\n",
    "\n",
    "# obs_dict = env_reset(env)\n",
    "# agent = OrderEnforcingAgent()\n",
    "# print(agent.register_reset(obs_dict))\n",
    "# env.step(agent.register_reset(obs_dict))"
   ]
  },
  {
   "cell_type": "markdown",
   "metadata": {},
   "source": [
    "# 6. Evaluating Actions\n",
    "\n",
    "After Taking actions we can evaluate the performance of our agent or agents.\n",
    "\n",
    "Evalution is done using the final metric which is the price cost and Emission cost"
   ]
  },
  {
   "cell_type": "code",
   "execution_count": 11,
   "metadata": {},
   "outputs": [
    {
     "data": {
      "text/plain": [
       "(1.4068252717232936, 1.3859979750364662)"
      ]
     },
     "execution_count": 11,
     "metadata": {},
     "output_type": "execute_result"
    }
   ],
   "source": [
    "\n",
    "env.evaluate()"
   ]
  },
  {
   "cell_type": "markdown",
   "metadata": {},
   "source": [
    "# SAMPLE RUN or LOCAL EVALUATION\n",
    "\n",
    "Some modification have been made from the origial code. For isinstance\n",
    "\n",
    "- We can run a test for a month i.e $30*24$ to quickly evaluate our agent \n",
    "\n",
    "we add the following code in the evaluation section \n",
    "\n",
    "``` python \n",
    "\n",
    "    # Skipping to shorten training time\n",
    "    days = 30*5\n",
    "    training_steps = 24*days\n",
    "    skipping = False\n",
    "```"
   ]
  },
  {
   "cell_type": "code",
   "execution_count": 12,
   "metadata": {},
   "outputs": [
    {
     "name": "stdout",
     "output_type": "stream",
     "text": [
      "Starting local evaluation\n",
      "Num Steps: 1000, Num episodes: 0\n",
      "Num Steps: 2000, Num episodes: 0\n"
     ]
    }
   ],
   "source": [
    "import numpy as np\n",
    "import time\n",
    "\n",
    "\"\"\"\n",
    "Please do not make changes to this file. \n",
    "This is only a reference script provided to allow you \n",
    "to do local evaluation. The evaluator **DOES NOT** \n",
    "use this script for orchestrating the evaluations. \n",
    "\"\"\"\n",
    "\n",
    "from agents.orderenforcingwrapper import OrderEnforcingAgent\n",
    "from citylearn.citylearn import CityLearnEnv\n",
    "\n",
    "class Constants:\n",
    "    episodes = 5\n",
    "    schema_path = './data/citylearn_challenge_2022_phase_1/schema.json'\n",
    "\n",
    "def action_space_to_dict(aspace):\n",
    "    \"\"\" Only for box space \"\"\"\n",
    "    return { \"high\": aspace.high,\n",
    "             \"low\": aspace.low,\n",
    "             \"shape\": aspace.shape,\n",
    "             \"dtype\": str(aspace.dtype)\n",
    "    }\n",
    "\n",
    "def env_reset(env):\n",
    "    observations = env.reset()\n",
    "    action_space = env.action_space\n",
    "    observation_space = env.observation_space\n",
    "    building_info = env.get_building_information()\n",
    "    building_info = list(building_info.values())\n",
    "    action_space_dicts = [action_space_to_dict(asp) for asp in action_space]\n",
    "    observation_space_dicts = [action_space_to_dict(osp) for osp in observation_space]\n",
    "    obs_dict = {\"action_space\": action_space_dicts,\n",
    "                \"observation_space\": observation_space_dicts,\n",
    "                \"building_info\": building_info,\n",
    "                \"observation\": observations }\n",
    "    return obs_dict\n",
    "\n",
    "\n",
    "def evaluate():\n",
    "    print(\"Starting local evaluation\")\n",
    "    \n",
    "    env = CityLearnEnv(schema=Constants.schema_path)\n",
    "    agent = OrderEnforcingAgent()\n",
    "\n",
    "    obs_dict = env_reset(env)\n",
    "\n",
    "    agent_time_elapsed = 0\n",
    "\n",
    "    step_start = time.perf_counter()\n",
    "    actions = agent.register_reset(obs_dict)\n",
    "    agent_time_elapsed += time.perf_counter()- step_start\n",
    "\n",
    "    episodes_completed = 0\n",
    "    num_steps = 0\n",
    "    interrupted = False\n",
    "    episode_metrics = []\n",
    "    \n",
    "    # Skipping to shorten training time\n",
    "    days = 30*5\n",
    "    training_steps = 24*days\n",
    "    skipping = False\n",
    "    \n",
    "    try:\n",
    "        while True:\n",
    "            \n",
    "            ### This is only a reference script provided to allow you \n",
    "            ### to do local evaluation. The evaluator **DOES NOT** \n",
    "            ### use this script for orchestrating the evaluations. \n",
    "\n",
    "            observations, _, done, _ = env.step(actions)\n",
    "            if done or skipping:\n",
    "                episodes_completed += 1\n",
    "                metrics_t = env.evaluate()\n",
    "                metrics = {\"price_cost\": metrics_t[0], \"emmision_cost\": metrics_t[1]}\n",
    "                if np.any(np.isnan(metrics_t)):\n",
    "                    raise ValueError(\"Episode metrics are nan, please contant organizers\")\n",
    "                episode_metrics.append(metrics)\n",
    "                print(f\"Episode complete: {episodes_completed} | Latest episode metrics: {metrics}\", )\n",
    "\n",
    "                obs_dict = env_reset(env)\n",
    "\n",
    "                step_start = time.perf_counter()\n",
    "                actions = agent.register_reset(obs_dict)\n",
    "                agent_time_elapsed += time.perf_counter()- step_start\n",
    "            else:\n",
    "                step_start = time.perf_counter()\n",
    "                actions = agent.compute_action(observations)\n",
    "                agent_time_elapsed += time.perf_counter()- step_start\n",
    "            \n",
    "            num_steps += 1\n",
    "            if num_steps % 1000 == 0:\n",
    "                print(f\"Num Steps: {num_steps}, Num episodes: {episodes_completed}\")\n",
    "            \n",
    "            ### End training in set time\n",
    "            if num_steps % training_steps == 0:\n",
    "                print(f\"Num Steps: {num_steps}, Num episodes: {episodes_completed}\")\n",
    "                if num_steps == training_steps:\n",
    "                    print(f'ENDING TRAINING AFTER {training_steps} STEPS')\n",
    "                    skipping = True\n",
    "\n",
    "            if episodes_completed >= Constants.episodes:\n",
    "                break\n",
    "    except KeyboardInterrupt:\n",
    "        print(\"========================= Stopping Evaluation =========================\")\n",
    "        interrupted = True\n",
    "    \n",
    "    if not interrupted:\n",
    "        print(\"=========================Completed=========================\")\n",
    "\n",
    "    if len(episode_metrics) > 0:\n",
    "        print(\"Average Price Cost:\", np.mean([e['price_cost'] for e in episode_metrics]))\n",
    "        print(\"Average Emmision Cost:\", np.mean([e['emmision_cost'] for e in episode_metrics]))\n",
    "    print(f\"Total time taken by agent: {agent_time_elapsed}s\")\n",
    "\n",
    "if __name__ == '__main__':\n",
    "    evaluate()\n"
   ]
  },
  {
   "cell_type": "markdown",
   "metadata": {},
   "source": [
    "# setting Up Environment requiremnents.txt and yml files \n",
    "\n",
    "follow the links https://stackoverflow.com/questions/48787250/set-up-virtualenv-using-a-requirements-txt-generated-by-conda"
   ]
  }
 ],
 "metadata": {
  "kernelspec": {
   "display_name": "Python 3.7.7 ('myenv')",
   "language": "python",
   "name": "python3"
  },
  "language_info": {
   "codemirror_mode": {
    "name": "ipython",
    "version": 3
   },
   "file_extension": ".py",
   "mimetype": "text/x-python",
   "name": "python",
   "nbconvert_exporter": "python",
   "pygments_lexer": "ipython3",
   "version": "3.7.7"
  },
  "vscode": {
   "interpreter": {
    "hash": "b61b964381d6c4def042cc4a18cb4192685b007f3086fb1f549000387f8792af"
   }
  }
 },
 "nbformat": 4,
 "nbformat_minor": 2
}
